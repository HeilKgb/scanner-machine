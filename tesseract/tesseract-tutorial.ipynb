import re 
import cv2
import numpy as np
import pytesseract
from pytesseract import Output
from matplotlib import pyplot as plt